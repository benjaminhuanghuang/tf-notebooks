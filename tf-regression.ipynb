{
 "cells": [
  {
   "cell_type": "code",
   "execution_count": 1,
   "metadata": {
    "collapsed": true
   },
   "outputs": [],
   "source": [
    "import tensorflow as tf\n",
    "import numpy as np"
   ]
  },
  {
   "cell_type": "code",
   "execution_count": 5,
   "metadata": {
    "collapsed": true
   },
   "outputs": [],
   "source": [
    "x_data = np.random.rand(100)\n",
    "y_data = x_data * 0.1 +0.2   # Training target"
   ]
  },
  {
   "cell_type": "code",
   "execution_count": 9,
   "metadata": {},
   "outputs": [
    {
     "name": "stdout",
     "output_type": "stream",
     "text": [
      "(0, [0.053171065, 0.10004723])\n",
      "(20, [0.10309566, 0.1983498])\n",
      "(40, [0.10190803, 0.19898295])\n",
      "(60, [0.101176, 0.19937314])\n",
      "(80, [0.10072482, 0.19961365])\n",
      "(100, [0.10044674, 0.19976187])\n",
      "(120, [0.10027535, 0.19985323])\n",
      "(140, [0.10016969, 0.19990955])\n",
      "(160, [0.10010459, 0.19994426])\n",
      "(180, [0.10006447, 0.19996564])\n",
      "(200, [0.10003975, 0.19997881])\n"
     ]
    }
   ],
   "source": [
    "# model\n",
    "b = tf.Variable(0.)\n",
    "k = tf.Variable(0.)\n",
    "y = k * x_data + b\n",
    "\n",
    "# \n",
    "loss = tf.reduce_mean(tf.square(y_data - y))\n",
    "#\n",
    "learning_rate =0.2\n",
    "optimizer = tf.train.GradientDescentOptimizer(0.2)\n",
    "#\n",
    "train = optimizer.minimize(loss)\n",
    "init = tf.global_variables_initializer()\n",
    "with tf.Session() as sess:\n",
    "    sess.run(init)\n",
    "    for step in range(201):\n",
    "        sess.run(train)\n",
    "        if step %20 ==0:\n",
    "            print(step, sess.run([k, b]))"
   ]
  }
 ],
 "metadata": {
  "kernelspec": {
   "display_name": "Python [Root]",
   "language": "python",
   "name": "Python [Root]"
  },
  "language_info": {
   "codemirror_mode": {
    "name": "ipython",
    "version": 2
   },
   "file_extension": ".py",
   "mimetype": "text/x-python",
   "name": "python",
   "nbconvert_exporter": "python",
   "pygments_lexer": "ipython2",
   "version": "2.7.13"
  }
 },
 "nbformat": 4,
 "nbformat_minor": 2
}
